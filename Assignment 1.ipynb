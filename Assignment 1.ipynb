{
 "cells": [
  {
   "cell_type": "markdown",
   "id": "8942efce",
   "metadata": {},
   "source": [
    "1. In the below elements which of them are values or an expression? eg:- values can be\n",
    "integer or string and expressions will be mathematical operators.\n",
    "* : Expression\n",
    "&#39;hello&#39; : Value\n",
    "-87.8 : Value\n",
    "- : Expression\n",
    "/ : Expression\n",
    "+ : Expression\n",
    "6 : Value"
   ]
  },
  {
   "cell_type": "markdown",
   "id": "8bda3969",
   "metadata": {},
   "source": [
    "2. What is the difference between string and variable?\n",
    "a string is data type which represents a sequence of characters\n",
    "\n",
    "Variable is a named reference to a value stored in memory it is used to store different types of data like string,intiger,list ,tuple etc. \n"
   ]
  },
  {
   "cell_type": "markdown",
   "id": "6d0d91d5",
   "metadata": {},
   "source": [
    "3. Describe three different data types.\n",
    "boolean - this data type stores the value as either TRUE or False\n",
    "int - this data type store integer value means a value without decimal or fracation these are usually whole numbers\n",
    "string- this data type store sequence of charachters and a string is enclosd in \"string\""
   ]
  },
  {
   "cell_type": "markdown",
   "id": "e38c51df",
   "metadata": {},
   "source": [
    "4. What is an expression made up of? What do all expressions do?\n",
    "a expression consists of operators,operands,values,variables or function call that evaluates to a result(Value)"
   ]
  },
  {
   "cell_type": "markdown",
   "id": "b7fd9ccf",
   "metadata": {},
   "source": [
    "5. This assignment statements, like spam = 10. What is the difference between an\n",
    "expression and a statement?\n",
    "\n",
    "an expression produces a value while a statement carries out an action or operation. Expressions can be part of statements but not all statements are expressions."
   ]
  },
  {
   "cell_type": "markdown",
   "id": "bf92eb80",
   "metadata": {},
   "source": [
    "6. After running the following code, what does the variable bacon contain?\n",
    "bacon = 22\n",
    "bacon + 1\n",
    "\n",
    "here in this code bacon will always be 22 reason is bacon+1 is not assigned to any value we are just adding 1 to bacon but not storing it in bacon variable."
   ]
  },
  {
   "cell_type": "code",
   "execution_count": 1,
   "id": "413480ca",
   "metadata": {},
   "outputs": [
    {
     "name": "stdout",
     "output_type": "stream",
     "text": [
      "22\n"
     ]
    }
   ],
   "source": [
    "bacon = 22\n",
    "bacon + 1\n",
    "print(bacon)"
   ]
  },
  {
   "cell_type": "markdown",
   "id": "c18a0f1f",
   "metadata": {},
   "source": [
    "7. What should the values of the following two terms be?\n",
    "'spam'+'spamspam'  - it will perform the concatenate operation result will be spamspamspam\n",
    "'spam'* 3 - it will repeat the spam 3 time spamspamspam"
   ]
  },
  {
   "cell_type": "code",
   "execution_count": 3,
   "id": "b66e145b",
   "metadata": {},
   "outputs": [],
   "source": [
    "a='spam'+'spamspam'\n",
    "b='spam'* 3 "
   ]
  },
  {
   "cell_type": "code",
   "execution_count": 4,
   "id": "05479ad7",
   "metadata": {},
   "outputs": [
    {
     "data": {
      "text/plain": [
       "'spamspamspam'"
      ]
     },
     "execution_count": 4,
     "metadata": {},
     "output_type": "execute_result"
    }
   ],
   "source": [
    "a"
   ]
  },
  {
   "cell_type": "code",
   "execution_count": 5,
   "id": "b3246a28",
   "metadata": {},
   "outputs": [
    {
     "data": {
      "text/plain": [
       "'spamspamspam'"
      ]
     },
     "execution_count": 5,
     "metadata": {},
     "output_type": "execute_result"
    }
   ],
   "source": [
    "b"
   ]
  },
  {
   "cell_type": "markdown",
   "id": "012bbcb1",
   "metadata": {},
   "source": [
    "8. Why is eggs a valid variable name while 100 is invalid?\n",
    "its because of the concept of variable naming convention a variable name can start with a letter or underscore but never with a digit\n",
    "as you can see below its showing as syntax error."
   ]
  },
  {
   "cell_type": "code",
   "execution_count": 6,
   "id": "0831937a",
   "metadata": {},
   "outputs": [
    {
     "ename": "SyntaxError",
     "evalue": "cannot assign to literal (1761793859.py, line 1)",
     "output_type": "error",
     "traceback": [
      "\u001b[1;36m  File \u001b[1;32m\"C:\\Users\\Hp\\AppData\\Local\\Temp\\ipykernel_12020\\1761793859.py\"\u001b[1;36m, line \u001b[1;32m1\u001b[0m\n\u001b[1;33m    100='nakul'\u001b[0m\n\u001b[1;37m    ^\u001b[0m\n\u001b[1;31mSyntaxError\u001b[0m\u001b[1;31m:\u001b[0m cannot assign to literal\n"
     ]
    }
   ],
   "source": [
    "100='nakul'\n",
    "eggs='nakul'"
   ]
  },
  {
   "cell_type": "markdown",
   "id": "111be933",
   "metadata": {},
   "source": [
    "9. What three functions can be used to get the integer, floating-point number, or string\n",
    "version of a value?\n"
   ]
  },
  {
   "cell_type": "code",
   "execution_count": null,
   "id": "99a5374f",
   "metadata": {},
   "outputs": [],
   "source": [
    "int()\n",
    "float()\n",
    "str()"
   ]
  },
  {
   "cell_type": "markdown",
   "id": "dc75d4cd",
   "metadata": {},
   "source": [
    "10. Why does this expression cause an error? How can you fix it?\n",
    "'I have eaten' + 99 + 'burritos'\n",
    "\n",
    "the error would be type error reason is here in this example we are trying to concatenate string with integer type and thats not possible we can resolve this by making 99 a strig as below"
   ]
  },
  {
   "cell_type": "code",
   "execution_count": 7,
   "id": "d5e2aae1",
   "metadata": {},
   "outputs": [
    {
     "ename": "TypeError",
     "evalue": "can only concatenate str (not \"int\") to str",
     "output_type": "error",
     "traceback": [
      "\u001b[1;31m---------------------------------------------------------------------------\u001b[0m",
      "\u001b[1;31mTypeError\u001b[0m                                 Traceback (most recent call last)",
      "\u001b[1;32m~\\AppData\\Local\\Temp\\ipykernel_12020\\2733022945.py\u001b[0m in \u001b[0;36m<module>\u001b[1;34m\u001b[0m\n\u001b[1;32m----> 1\u001b[1;33m \u001b[1;34m'I have eaten'\u001b[0m \u001b[1;33m+\u001b[0m \u001b[1;36m99\u001b[0m \u001b[1;33m+\u001b[0m \u001b[1;34m'burritos'\u001b[0m\u001b[1;33m\u001b[0m\u001b[1;33m\u001b[0m\u001b[0m\n\u001b[0m",
      "\u001b[1;31mTypeError\u001b[0m: can only concatenate str (not \"int\") to str"
     ]
    }
   ],
   "source": [
    "'I have eaten' + 99 + 'burritos' # as you can see its throwing type error"
   ]
  },
  {
   "cell_type": "code",
   "execution_count": 11,
   "id": "5ac91254",
   "metadata": {},
   "outputs": [
    {
     "data": {
      "text/plain": [
       "'I have eaten 99 burritos'"
      ]
     },
     "execution_count": 11,
     "metadata": {},
     "output_type": "execute_result"
    }
   ],
   "source": [
    "'I have eaten' + ' 99' +  ' burritos'"
   ]
  },
  {
   "cell_type": "code",
   "execution_count": null,
   "id": "afd717f2",
   "metadata": {},
   "outputs": [],
   "source": []
  }
 ],
 "metadata": {
  "kernelspec": {
   "display_name": "Python 3 (ipykernel)",
   "language": "python",
   "name": "python3"
  },
  "language_info": {
   "codemirror_mode": {
    "name": "ipython",
    "version": 3
   },
   "file_extension": ".py",
   "mimetype": "text/x-python",
   "name": "python",
   "nbconvert_exporter": "python",
   "pygments_lexer": "ipython3",
   "version": "3.9.13"
  }
 },
 "nbformat": 4,
 "nbformat_minor": 5
}
